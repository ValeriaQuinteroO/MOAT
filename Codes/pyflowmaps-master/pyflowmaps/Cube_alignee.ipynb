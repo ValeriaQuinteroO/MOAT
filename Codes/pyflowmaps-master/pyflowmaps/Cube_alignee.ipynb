{
 "cells": [
  {
   "cell_type": "code",
   "execution_count": 1,
   "metadata": {},
   "outputs": [],
   "source": [
    "import glob\n",
    "import numpy as np \n",
    "from astropy.io import fits \n",
    "from scipy.ndimage import shift\n",
    "from skimage.registration import phase_cross_correlation"
   ]
  },
  {
   "cell_type": "code",
   "execution_count": 8,
   "metadata": {},
   "outputs": [],
   "source": [
    "folder = '/Volumes/VALERIA/AUSUS/Documents/MOAT/Mancha1/'\n",
    "files = sorted(glob.glob(folder+'*.fits'))\n",
    "files = files[0:15]"
   ]
  },
  {
   "cell_type": "code",
   "execution_count": 9,
   "metadata": {},
   "outputs": [],
   "source": [
    "ind_c = len(files)//2 \n",
    "ref_im = fits.getdata(files[ind_c]) \n",
    "cube_aligned = np.zeros([len(files),277,277]) "
   ]
  },
  {
   "cell_type": "code",
   "execution_count": 10,
   "metadata": {},
   "outputs": [
    {
     "name": "stdout",
     "output_type": "stream",
     "text": [
      "Aligning image no.  0\n",
      "Aligning image no.  1\n",
      "Aligning image no.  2\n",
      "Aligning image no.  3\n",
      "Aligning image no.  4\n",
      "Aligning image no.  5\n",
      "Aligning image no.  6\n",
      "Aligning image no.  7\n",
      "Aligning image no.  8\n",
      "Aligning image no.  9\n",
      "Aligning image no.  10\n",
      "Aligning image no.  11\n",
      "Aligning image no.  12\n",
      "Aligning image no.  13\n",
      "Aligning image no.  14\n"
     ]
    }
   ],
   "source": [
    "xshifts=[]\n",
    "yshifts=[]\n",
    "\n",
    "for i in range(len(files)):\n",
    "    print('Aligning image no. ',i)\n",
    "    tgt_im = fits.getdata(files[i])\n",
    "    shifts = phase_cross_correlation(tgt_im[0:277,0:277].astype(float), ref_im[0:277,0:277].astype(float), upsample_factor=100, return_error=False)\n",
    "    xshifts.append(-shifts[1])\n",
    "    yshifts.append(-shifts[0])\n",
    "    new_image = shift(tgt_im[0:277,0:277],-shifts,order=5,mode='constant')\n",
    "    cube_aligned[i,:,:] = new_image[...] \n",
    "    \n",
    "cube = cube_aligned[:,int(np.ceil(np.max(yshifts))):int(np.floor(np.min(yshifts))),\n",
    "int(np.ceil(np.max(xshifts))):int(np.floor(np.min(xshifts)))] \n",
    "fits.writeto('/Volumes/VALERIA/AUSUS/Documents/MOAT/Cubos/cubealign3hours.fits',cube, overwrite=True) "
   ]
  },
  {
   "cell_type": "code",
   "execution_count": null,
   "metadata": {},
   "outputs": [],
   "source": []
  }
 ],
 "metadata": {
  "kernelspec": {
   "display_name": "Python 3",
   "language": "python",
   "name": "python3"
  },
  "language_info": {
   "codemirror_mode": {
    "name": "ipython",
    "version": 3
   },
   "file_extension": ".py",
   "mimetype": "text/x-python",
   "name": "python",
   "nbconvert_exporter": "python",
   "pygments_lexer": "ipython3",
   "version": "3.7.9"
  }
 },
 "nbformat": 4,
 "nbformat_minor": 4
}
